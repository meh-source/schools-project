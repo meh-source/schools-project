{
 "cells": [
  {
   "cell_type": "markdown",
   "id": "25ac40fa-571f-415b-81a1-0095c65acee7",
   "metadata": {},
   "source": [
    "# Ranking school examination results using multivariate hierarchical models"
   ]
  },
  {
   "cell_type": "code",
   "execution_count": 44,
   "id": "85b26709-4aa7-40cd-aff7-e713f818eb80",
   "metadata": {},
   "outputs": [],
   "source": [
    "import numpy as np\n",
    "import scipy.stats as sp\n",
    "import matplotlib.pyplot as plt"
   ]
  },
  {
   "cell_type": "code",
   "execution_count": 45,
   "id": "0e45d020-19d8-46d9-97db-ac155e4f1806",
   "metadata": {},
   "outputs": [],
   "source": [
    "import json \n",
    "with open(\"data/data.json\") as file:\n",
    "    data = json.load(file)\n",
    "    \n",
    "with open(\"data/init.json\") as file:\n",
    "    init = json.load(file)\n",
    "    \n",
    "with open(\"data/params.json\") as file:\n",
    "    params = json.load(file)"
   ]
  },
  {
   "cell_type": "code",
   "execution_count": 46,
   "id": "6275a2dc-126c-430d-8c89-b5bf81b09bfe",
   "metadata": {},
   "outputs": [],
   "source": [
    "for idx, item in data.items():\n",
    "    data[idx] = np.array(item).reshape(-1)\n",
    "\n",
    "for idx, item in init.items():\n",
    "    init[idx] = np.array(item).reshape(-1)\n",
    "    \n",
    "for idx, item in params.items():\n",
    "    params[idx] = np.array(item).reshape(-1)"
   ]
  },
  {
   "cell_type": "code",
   "execution_count": 47,
   "id": "275463b5-acc5-48e1-93da-bb2756d571ab",
   "metadata": {},
   "outputs": [
    {
     "data": {
      "text/plain": [
       "(dict_keys(['Gender', 'LRT', 'M', 'N', 'R', 'school', 'School_denom', 'School_gender', 'Y', 'VR']),\n",
       " dict_keys(['theta', 'phi', 'gamma', 'beta', 'Omega', 'alpha']),\n",
       " dict_keys(['R_shape', 'School_denom_shape', 'School_gender_shape', 'Venom_shape', 'Omega_shape', 'alpha_shape']))"
      ]
     },
     "execution_count": 47,
     "metadata": {},
     "output_type": "execute_result"
    }
   ],
   "source": [
    "data.keys(), init.keys(), params.keys()"
   ]
  },
  {
   "cell_type": "code",
   "execution_count": 73,
   "id": "84150bb0-a38d-451a-b029-b123b443696d",
   "metadata": {},
   "outputs": [
    {
     "data": {
      "text/plain": [
       "{'R_shape': array([3, 3]),\n",
       " 'School_denom_shape': array([1978,    3]),\n",
       " 'School_gender_shape': array([1978,    2]),\n",
       " 'Venom_shape': array([1978,    3]),\n",
       " 'Omega_shape': array([3, 3]),\n",
       " 'alpha_shape': array([38,  3])}"
      ]
     },
     "execution_count": 73,
     "metadata": {},
     "output_type": "execute_result"
    }
   ],
   "source": [
    "params"
   ]
  },
  {
   "cell_type": "code",
   "execution_count": 48,
   "id": "3bab0f3d-7c9a-40de-bf5b-c26c82a12505",
   "metadata": {},
   "outputs": [],
   "source": [
    "hyperparams = dict()\n",
    "hyperparams[\"tau0\"] = 10**(-3)"
   ]
  },
  {
   "cell_type": "code",
   "execution_count": 70,
   "id": "878840fc-ae76-4620-90ce-f53b46c1a5e7",
   "metadata": {},
   "outputs": [],
   "source": [
    "def sampler(n, data, init, params, hyperparams):\n",
    "    \n",
    "    # initialisation de la chaine \n",
    "    chain = dict()\n",
    "    for key, param in init.items():\n",
    "        chain[key] = np.zeros((n+1, param.shape[0]))\n",
    "        chain[key][0, :] = param\n",
    "    \n",
    "    # définition des constantes\n",
    "    LRT_sum = np.sum(data[\"LRT\"])\n",
    "    N   = data[\"LRT\"].shape[0]\n",
    "    mu  = np.zeros(data[\"Y\"].shape) ## à supprimer après le calcul de mu\n",
    "    tau = np.zeros(data[\"Y\"].shape) ## à supprimer après le calcul de tau\n",
    "    tau0 = hyperparams[\"tau0\"]\n",
    "    n_beta = init[\"beta\"].shape[0]\n",
    "    n_schools = np.max(data[\"school\"])\n",
    "    \n",
    "    ### TODO: définir v\n",
    "    ### TODO: définir u\n",
    "    \n",
    "    # mise à jour des paramètres\n",
    "    for i in range(1, n+1):\n",
    "        ### TODO: calcul de mu_ij\n",
    "        ### TODO: calcul de tau_ij\n",
    "        \n",
    "        # mise à jour de phi: mcmc \n",
    "        # phi peut prendre toutes les valeurs réelles, \n",
    "        # donc on utilise le \"random walk M.-H. scheme\"\n",
    "        theta_current = chain[\"theta\"][i-1, :]\n",
    "        phi_current = chain[\"phi\"][i-1, :]\n",
    "        \n",
    "        phi_proposal = phi_current + np.random.normal()\n",
    "        \n",
    "        phi_top = (-tau0/2) * np.power(phi_proposal, 2)\n",
    "        phi_top += (LRT_sum/2) * phi_proposal\n",
    "        phi_top -= (np.exp(theta_current)/2) * np.sum(\n",
    "            np.exp(phi_proposal*data[\"LRT\"]) * np.power(data[\"Y\"]-mu, 2)\n",
    "        )\n",
    "    \n",
    "        phi_bottom = (-tau0/2) * np.power(phi_current, 2)\n",
    "        phi_bottom += (LRT_sum/2) * phi_current\n",
    "        phi_bottom -= (np.exp(theta_current)/2) * np.sum(\n",
    "            np.exp(phi_current*data[\"LRT\"]) * np.power(data[\"Y\"]-mu, 2)\n",
    "        )\n",
    "        \n",
    "        phi_acceptance = np.exp(phi_top-phi_bottom)\n",
    "        if phi_acceptance < np.random.rand():\n",
    "            chain[\"phi\"][i,:] = phi_proposal\n",
    "            phi_current = phi_proposal\n",
    "        else:\n",
    "            chain[\"phi\"][i,:] = phi_current\n",
    "\n",
    "        # mise à jour de theta: mcmc \n",
    "        # theta peut prendre toutes les valeurs réelles, \n",
    "        # donc on utilise le \"random walk M.-H. scheme\"        \n",
    "        theta_proposal = theta_current + np.random.normal()\n",
    "        \n",
    "        theta_top = (-tau0/2) * np.power(theta_proposal, 2)\n",
    "        theta_top += (N/2) * theta_proposal\n",
    "        theta_top -= (np.exp(theta_proposal)/2) * np.sum(\n",
    "            np.exp(phi_current*data[\"LRT\"]) * np.power(data[\"Y\"]-mu, 2)\n",
    "        )\n",
    "        \n",
    "        theta_bottom = (-tau0/2) * np.power(theta_current, 2)\n",
    "        theta_bottom += (LRT_sum/2) * theta_current\n",
    "        theta_bottom -= (np.exp(theta_current)/2) * np.sum(\n",
    "            np.exp(phi_current*data[\"LRT\"]) * np.power(data[\"Y\"]-mu, 2)\n",
    "        ) \n",
    "        \n",
    "        theta_acceptance = np.exp(theta_top-theta_bottom)\n",
    "        if theta_acceptance < np.random.rand():\n",
    "            chain[\"theta\"][i,:] = theta_proposal\n",
    "            theta_current = theta_proposal\n",
    "        else:\n",
    "            chain[\"theta\"][i,:] = theta_current\n",
    "                      \n",
    "        # mise à jour de beta: normale multivariée\n",
    "        alpha_current = chain[\"alpha\"][i-1, :]\n",
    "        beta_current = chain[\"beta\"][i-1, :]\n",
    "        \n",
    "        beta_cov_inv = tau0 * np.eye(n_beta) \n",
    "        for k in range(N):\n",
    "            beta_cov_inv = beta_cov_inv + tau[k] * np.dot(v[[k], :], v[[k], :].T)\n",
    "        beta_cov = np.linalg.inv(beta_cov_inv)\n",
    "        \n",
    "        beta_mean = tau * Y * v.T \n",
    "        for j in range(1, n_schools+1):\n",
    "            school_j = (data[\"school\"] ==j)\n",
    "            alpha_j = alpha_current[(3*(j-1)):(3*j)]\n",
    "            beta_mean = beta_mean - np.dot(alpha_j.T, np.dot(u[school_j, :].T, v[school_j, :]))\n",
    "        beta_mean = np.dot(beta_cov, beta_mean)\n",
    "        beta_proposal = random.Generator.multivariate_normal(beta_mean, beta_cov)\n",
    "        \n",
    "        chain[\"beta\"][i, :] = beta_proposal\n",
    "        beta_current = beta_proposal\n",
    "        \n",
    "        # mise à jour de T: mcmc\n",
    "        \n",
    "        \n",
    "        # mise à jour de gamma: normale\n",
    "        \n",
    "        \n",
    "        # mise à jour de alpha: normale\n",
    "        \n",
    "    \n",
    "    return chain"
   ]
  },
  {
   "cell_type": "code",
   "execution_count": 71,
   "id": "586d93b4-1094-4847-b55b-c0112a77004c",
   "metadata": {},
   "outputs": [
    {
     "data": {
      "text/plain": [
       "array([2314,  123])"
      ]
     },
     "execution_count": 71,
     "metadata": {},
     "output_type": "execute_result"
    }
   ],
   "source": [
    "np.array([2314,123]).T\n"
   ]
  },
  {
   "cell_type": "code",
   "execution_count": 72,
   "id": "0035ee1e-dbe4-4b95-9d80-2ab09d74a94f",
   "metadata": {},
   "outputs": [
    {
     "name": "stderr",
     "output_type": "stream",
     "text": [
      "/tmp/ipykernel_5298/3187798468.py:67: RuntimeWarning: overflow encountered in exp\n",
      "  theta_acceptance = np.exp(theta_top-theta_bottom)\n"
     ]
    },
    {
     "ename": "NameError",
     "evalue": "name 'v' is not defined",
     "output_type": "error",
     "traceback": [
      "\u001b[0;31m---------------------------------------------------------------------------\u001b[0m",
      "\u001b[0;31mNameError\u001b[0m                                 Traceback (most recent call last)",
      "Cell \u001b[0;32mIn[72], line 1\u001b[0m\n\u001b[0;32m----> 1\u001b[0m \u001b[43msampler\u001b[49m\u001b[43m(\u001b[49m\u001b[38;5;241;43m10\u001b[39;49m\u001b[43m,\u001b[49m\u001b[43m \u001b[49m\u001b[43mdata\u001b[49m\u001b[43m,\u001b[49m\u001b[43m \u001b[49m\u001b[43minit\u001b[49m\u001b[43m,\u001b[49m\u001b[43m \u001b[49m\u001b[43mparams\u001b[49m\u001b[43m,\u001b[49m\u001b[43m \u001b[49m\u001b[43mhyperparams\u001b[49m\u001b[43m)\u001b[49m\n",
      "Cell \u001b[0;32mIn[70], line 80\u001b[0m, in \u001b[0;36msampler\u001b[0;34m(n, data, init, params, hyperparams)\u001b[0m\n\u001b[1;32m     78\u001b[0m beta_cov_inv \u001b[38;5;241m=\u001b[39m tau0 \u001b[38;5;241m*\u001b[39m np\u001b[38;5;241m.\u001b[39meye(n_beta) \n\u001b[1;32m     79\u001b[0m \u001b[38;5;28;01mfor\u001b[39;00m k \u001b[38;5;129;01min\u001b[39;00m \u001b[38;5;28mrange\u001b[39m(N):\n\u001b[0;32m---> 80\u001b[0m     beta_cov_inv \u001b[38;5;241m=\u001b[39m beta_cov_inv \u001b[38;5;241m+\u001b[39m tau[k] \u001b[38;5;241m*\u001b[39m np\u001b[38;5;241m.\u001b[39mdot(\u001b[43mv\u001b[49m[[k], :], v[[k], :]\u001b[38;5;241m.\u001b[39mT)\n\u001b[1;32m     81\u001b[0m beta_cov \u001b[38;5;241m=\u001b[39m np\u001b[38;5;241m.\u001b[39mlinalg\u001b[38;5;241m.\u001b[39minv(beta_cov_inv)\n\u001b[1;32m     83\u001b[0m beta_mean \u001b[38;5;241m=\u001b[39m tau \u001b[38;5;241m*\u001b[39m Y \u001b[38;5;241m*\u001b[39m v\u001b[38;5;241m.\u001b[39mT \n",
      "\u001b[0;31mNameError\u001b[0m: name 'v' is not defined"
     ]
    }
   ],
   "source": [
    "sampler(10, data, init, params, hyperparams)"
   ]
  },
  {
   "cell_type": "code",
   "execution_count": null,
   "id": "9e5130d0-c102-43bb-99e2-c22865aa35b3",
   "metadata": {},
   "outputs": [],
   "source": []
  }
 ],
 "metadata": {
  "kernelspec": {
   "display_name": "Python 3 (ipykernel)",
   "language": "python",
   "name": "python3"
  },
  "language_info": {
   "codemirror_mode": {
    "name": "ipython",
    "version": 3
   },
   "file_extension": ".py",
   "mimetype": "text/x-python",
   "name": "python",
   "nbconvert_exporter": "python",
   "pygments_lexer": "ipython3",
   "version": "3.10.9"
  }
 },
 "nbformat": 4,
 "nbformat_minor": 5
}
