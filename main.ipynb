{
 "cells": [
  {
   "cell_type": "markdown",
   "id": "25ac40fa-571f-415b-81a1-0095c65acee7",
   "metadata": {},
   "source": [
    "# Ranking school examination results using multivariate hierarchical models"
   ]
  },
  {
   "cell_type": "code",
   "execution_count": 82,
   "id": "85b26709-4aa7-40cd-aff7-e713f818eb80",
   "metadata": {},
   "outputs": [],
   "source": [
    "import numpy as np\n",
    "import scipy.stats as sp\n",
    "import matplotlib.pyplot as plt"
   ]
  },
  {
   "cell_type": "code",
   "execution_count": 83,
   "id": "0e45d020-19d8-46d9-97db-ac155e4f1806",
   "metadata": {},
   "outputs": [],
   "source": [
    "import json \n",
    "\n",
    "with open(\"data/data.json\") as file:\n",
    "    data = json.load(file)\n",
    "    \n",
    "with open(\"data/init.json\") as file:\n",
    "    init = json.load(file)\n",
    "    \n",
    "with open(\"data/params.json\") as file:\n",
    "    params = json.load(file)"
   ]
  },
  {
   "cell_type": "code",
   "execution_count": 84,
   "id": "6275a2dc-126c-430d-8c89-b5bf81b09bfe",
   "metadata": {},
   "outputs": [],
   "source": [
    "for idx, item in data.items():\n",
    "    data[idx] = np.array(item).reshape(-1)\n",
    "\n",
    "for idx, item in init.items():\n",
    "    init[idx] = np.array(item).reshape(-1)\n",
    "    \n",
    "for idx, item in params.items():\n",
    "    params[idx] = np.array(item).reshape(-1)"
   ]
  },
  {
   "cell_type": "code",
   "execution_count": 85,
   "id": "275463b5-acc5-48e1-93da-bb2756d571ab",
   "metadata": {},
   "outputs": [
    {
     "data": {
      "text/plain": [
       "(dict_keys(['Gender', 'LRT', 'M', 'N', 'R', 'school', 'School_denom', 'School_gender', 'Y', 'VR']),\n",
       " dict_keys(['theta', 'phi', 'gamma', 'beta', 'Omega', 'alpha']),\n",
       " dict_keys(['R_shape', 'School_denom_shape', 'School_gender_shape', 'Venom_shape', 'Omega_shape', 'alpha_shape']))"
      ]
     },
     "execution_count": 85,
     "metadata": {},
     "output_type": "execute_result"
    }
   ],
   "source": [
    "data.keys(), init.keys(), params.keys()"
   ]
  },
  {
   "cell_type": "code",
   "execution_count": 86,
   "id": "6289c725-1ccc-4263-86ad-b98913dc69a3",
   "metadata": {},
   "outputs": [],
   "source": [
    "hyperparams = dict()\n",
    "hyperparams[\"tau0\"] = 1e-4\n",
    "hyperparams[\"phi_sd_proposal\"] = 1\n",
    "hyperparams[\"theta_sd_proposal\"] = 1\n",
    "hyperparams[\"T_sd_proposal\"] = [5, 2, 2, 5, 2, 5]"
   ]
  },
  {
   "cell_type": "code",
   "execution_count": 87,
   "id": "ac661e99",
   "metadata": {},
   "outputs": [],
   "source": [
    "data[\"Omega\"] = init[\"Omega\"]\n",
    "del init[\"Omega\"]\n",
    "   \n",
    "init[\"T\"] = (sp.wishart(scale = data[\"R\"].reshape(3,3), df = 3).rvs() + 1e-6 * np.eye(3)).reshape(-1)"
   ]
  },
  {
   "cell_type": "code",
   "execution_count": 88,
   "id": "878840fc-ae76-4620-90ce-f53b46c1a5e7",
   "metadata": {},
   "outputs": [],
   "source": [
    "def sampler(n, data, init, params, hyperparams):\n",
    "    \n",
    "    # initialisation de la chaine \n",
    "    chain = dict()\n",
    "    for key, param in init.items():\n",
    "        chain[key] = np.zeros((n+1, param.shape[0]))\n",
    "        chain[key][0, :] = param\n",
    "    \n",
    "    # définition des constantes\n",
    "    Y = data[\"Y\"]\n",
    "    \n",
    "    N = Y.shape[0]\n",
    "    n_beta = init[\"beta\"].shape[0]\n",
    "    n_schools = int(data[\"M\"])\n",
    "    \n",
    "    \n",
    "    LRT_sum = np.sum(data[\"LRT\"])\n",
    "    tau0 = hyperparams[\"tau0\"]\n",
    "    phi_sd_proposal = hyperparams[\"phi_sd_proposal\"]\n",
    "    theta_sd_proposal = hyperparams[\"theta_sd_proposal\"]\n",
    "    T_sd_proposal = hyperparams[\"T_sd_proposal\"]\n",
    "    \n",
    "    T0 = np.linalg.pinv(data[\"Omega\"].reshape(3, 3))\n",
    "    R_inv = np.linalg.pinv(data[\"R\"].reshape(3, 3))\n",
    "    \n",
    "    # définition de v\n",
    "    LRT = data[\"LRT\"].reshape(-1, 1)\n",
    "    VR = data[\"VR\"].reshape(N, -1, order=\"F\")\n",
    "    Girl = data[\"Gender\"].reshape(-1, 1)\n",
    "    School_gender = data[\"School_gender\"].reshape(N, -1, order=\"F\")\n",
    "    School_denom = data[\"School_denom\"].reshape(N, -1, order=\"F\")\n",
    "\n",
    "    v = np.concatenate((LRT**2, VR[:, [1]], Girl , School_gender, School_denom), axis=1)\n",
    "    \n",
    "    # définition de u\n",
    "    u = np.concatenate((np.ones((N, 1)), LRT, VR[:, [1]]), axis=1)\n",
    "    \n",
    "    # initialisation de mu et tau\n",
    "    mu_current  = np.zeros(N) \n",
    "    mu1_current  = np.zeros(N) \n",
    "    mu2_current  = np.zeros(N) \n",
    "    \n",
    "    # mise à jour des paramètres\n",
    "    for i in range(1, n+1):\n",
    "        print(i, end=\" \")\n",
    "        \n",
    "        # mise à jour de alpha: normale\n",
    "        ## calcul de tau\n",
    "        theta_current = chain[\"theta\"][i-1, :]\n",
    "        phi_current = chain[\"phi\"][i-1, :]\n",
    "        tau_current = np.exp(theta_current + phi_current * LRT).flatten()\n",
    "        \n",
    "        ## variables intervenant dans la loi de alpha\n",
    "        beta_current = chain[\"beta\"][i-1, :]\n",
    "        mu2_current = np.dot(v, beta_current) \n",
    "        mu_current = mu1_current + mu2_current\n",
    "        \n",
    "        gamma_current = chain[\"gamma\"][i-1, :]\n",
    "        T_current = chain[\"T\"][i-1, :].reshape(3, 3)\n",
    "        print(np.linalg.eigvals(T_current))\n",
    "        \n",
    "        for j in range(1, n_schools+1):\n",
    "            school_j = (data[\"school\"] == j)\n",
    "            tau_j = tau_current[school_j]\n",
    "            u_j = u[school_j, :]\n",
    "            v_j = v[school_j, :]\n",
    "            Y_j = Y[school_j]\n",
    "            \n",
    "            n_j = len(Y_j)\n",
    "            alphaj_cov_inv = T_current\n",
    "            for k in range(n_j):\n",
    "                u_kj =  u[[k], :]\n",
    "                alphaj_cov_inv = alphaj_cov_inv + tau_j[k] * np.dot(u_kj.T, u_kj)\n",
    "            alphaj_cov = np.linalg.pinv(alphaj_cov_inv)\n",
    "            \n",
    "            alphaj_mean = np.dot(T_current, gamma_current)\n",
    "            for k in range(n_j):\n",
    "                alphaj_mean = alphaj_mean + tau_j[k] * (Y_j[k] - np.dot(beta_current, v_j[k, :])) * u[k, :]\n",
    "            alphaj_mean = np.dot(alphaj_cov, alphaj_mean)\n",
    "            \n",
    "            alphaj_proposal = np.random.multivariate_normal(alphaj_mean, alphaj_cov)\n",
    "            chain[\"alpha\"][i,(3*(j-1)):(3*j)] = alphaj_proposal\n",
    "        \n",
    "        alpha_current = chain[\"alpha\"][i, :]\n",
    "        \n",
    "        # mise à jour de mu_1 (car elle dépend de alpha)\n",
    "        for j in range(1, n_schools + 1):\n",
    "            school_j = (data[\"school\"] == j)\n",
    "            alpha_j = alpha_current[(3*(j-1)):(3*j)]\n",
    "            mu1_current[school_j] = np.dot(u[school_j, :], alpha_j) \n",
    "        mu_current = mu1_current + mu2_current\n",
    "        \n",
    "        # mise à jour de beta: normale multivariée        \n",
    "        beta_cov_inv = tau0 * np.eye(n_beta) \n",
    "        for k in range(N):\n",
    "            beta_cov_inv = beta_cov_inv + tau_current[k] * np.dot(v[[k], :].T, v[[k], :])\n",
    "        beta_cov = np.linalg.pinv(beta_cov_inv)\n",
    "        \n",
    "        \n",
    "        tmp = np.zeros(v.shape)\n",
    "        for k in range(N):\n",
    "            j = data[\"school\"][k]\n",
    "            alpha_j = alpha_current[(3*(j-1)):(3*j)]\n",
    "            tmp_k = tau_current[k] * (Y[k] - np.dot(alpha_j, u[k, :]))\n",
    "            tmp_k = tmp_k * v[k, :]\n",
    "            tmp[k, :] = tmp_k\n",
    "        beta_mean = np.sum(tmp, axis=0)\n",
    "        beta_mean = np.dot(beta_cov, beta_mean)\n",
    "        \n",
    "        beta_proposal = np.random.multivariate_normal(beta_mean, beta_cov)\n",
    "        \n",
    "        chain[\"beta\"][i, :] = beta_proposal\n",
    "        beta_current = beta_proposal\n",
    "        mu2_current = np.dot(v, beta_current)\n",
    "        mu_current = mu1_current + mu2_current\n",
    "        \n",
    "        # mise à jour de phi: mcmc \n",
    "        # phi peut prendre toutes les valeurs réelles, \n",
    "        # donc on utilise le \"random walk M.-H. scheme\"\n",
    "        phi_proposal = phi_current + np.random.normal(scale=phi_sd_proposal)\n",
    "        \n",
    "        phi_top = - tau0 * np.power(phi_proposal, 2)\n",
    "        phi_top += LRT_sum * phi_proposal\n",
    "        phi_top -= np.exp(theta_current) * np.sum(\n",
    "            np.exp(phi_proposal*data[\"LRT\"]) * np.power(data[\"Y\"]-mu_current, 2)\n",
    "        )\n",
    "        phi_top *= .5\n",
    "        \n",
    "        phi_bottom = -tau0 * np.power(phi_current, 2)\n",
    "        phi_bottom += LRT_sum * phi_current\n",
    "        phi_bottom -= np.exp(theta_current) * np.sum(\n",
    "            np.exp(phi_current*data[\"LRT\"]) * np.power(data[\"Y\"]-mu_current, 2)\n",
    "        )\n",
    "        phi_bottom *= .5\n",
    "        \n",
    "        phi_acceptance = np.exp(phi_top-phi_bottom)\n",
    "        if phi_acceptance < np.random.rand():\n",
    "            chain[\"phi\"][i,:] = phi_proposal\n",
    "            phi_current = phi_proposal\n",
    "            tau_current = np.exp(theta_current + phi_current * LRT).flatten()\n",
    "        else:\n",
    "            chain[\"phi\"][i,:] = phi_current\n",
    "\n",
    "        \n",
    "        # mise à jour de theta: mcmc \n",
    "        # theta peut prendre toutes les valeurs réelles, \n",
    "        # donc on utilise le \"random walk M.-H. scheme\"        \n",
    "        theta_proposal = theta_current + np.random.normal(scale=theta_sd_proposal)\n",
    "        \n",
    "        theta_top = (-tau0/2) * np.power(theta_proposal, 2)\n",
    "        theta_top += (N/2) * theta_proposal\n",
    "        theta_top -= (np.exp(theta_proposal)/2) * np.sum(\n",
    "            np.exp(phi_current*data[\"LRT\"]) * np.power(data[\"Y\"]-mu_current, 2)\n",
    "        )\n",
    "        \n",
    "        theta_bottom = (-tau0/2) * np.power(theta_current, 2)\n",
    "        theta_bottom += (LRT_sum/2) * theta_current\n",
    "        theta_bottom -= (np.exp(theta_current)/2) * np.sum(\n",
    "            np.exp(phi_current*data[\"LRT\"]) * np.power(data[\"Y\"]-mu_current, 2)\n",
    "        ) \n",
    "        \n",
    "        theta_acceptance = np.exp(theta_top-theta_bottom)\n",
    "        if theta_acceptance < np.random.rand():\n",
    "            chain[\"theta\"][i,:] = theta_proposal\n",
    "            theta_current = theta_proposal\n",
    "            tau_current = np.exp(theta_current + phi_current * LRT).flatten()\n",
    "        else:\n",
    "            chain[\"theta\"][i,:] = theta_current\n",
    "        \n",
    "        # mise à jour de gamma: normale\n",
    "        alpha_current_sum = np.zeros(3)\n",
    "        for j in range(1, n_schools+1):\n",
    "            alpha_current_sum = alpha_current_sum + alpha_current[(3*(j-1)):(3*j)]\n",
    "        \n",
    "        gamma_cov = np.linalg.pinv(T0 + n_schools*T_current)\n",
    "        gamma_mean = np.dot(gamma_cov, np.dot(T_current, alpha_current_sum))\n",
    "        \n",
    "        gamma_proposal = np.random.multivariate_normal(gamma_mean, gamma_cov)\n",
    "        \n",
    "        chain[\"gamma\"][i, :] = gamma_proposal\n",
    "        gamma_current = gamma_proposal\n",
    "        \n",
    "        # mise à jour de T: mcmc       \n",
    "        for k, (a, b) in enumerate(((0,0), (0,1), (0,2), (1,1), (1,2), (2,2))):\n",
    "            # boucle pour garantir que T reste définie positive\n",
    "            while True:\n",
    "                Tab = np.random.normal(T_current[a, b], scale=T_sd_proposal[k])\n",
    "                T_proposal = np.copy(T_current)\n",
    "         \n",
    "                T_proposal[a, b] = Tab\n",
    "                T_proposal[b, a] = Tab\n",
    "                \n",
    "                if np.all(np.linalg.eigvals(T_proposal) > 0):\n",
    "                    break\n",
    "            \n",
    "            T_top = (n_schools-1) * np.log(np.linalg.det(T_proposal))\n",
    "            T_top -= np.sum(np.diag(np.dot(R_inv, T_proposal))) \n",
    "            \n",
    "            T_bottom = (n_schools-1) * np.log(np.linalg.det(T_current))\n",
    "            T_bottom -= np.sum(np.diag(np.dot(R_inv, T_current))) \n",
    "            for j in range(1, n_schools+1):\n",
    "                alpha_j = alpha_current[(3*(j-1)):(3*j)]\n",
    "                diff_j = (gamma_current - alpha_j).reshape(-1, 1)\n",
    "                T_top -= np.dot(diff_j.T, np.dot(T_proposal, diff_j))\n",
    "                T_bottom -= np.dot(diff_j.T, np.dot(T_current, diff_j))\n",
    "            T_top *= .5\n",
    "            T_bottom *= .5\n",
    "            \n",
    "            T_acceptance = np.exp(T_top - T_bottom)\n",
    "            \n",
    "            if T_acceptance < np.random.rand():\n",
    "                chain[\"T\"][i, :] = T_proposal.flatten()\n",
    "                T_current = T_proposal\n",
    "            else:\n",
    "                chain[\"T\"][i, :] = T_current.flatten()\n",
    "            \n",
    "    return(chain)     "
   ]
  },
  {
   "cell_type": "code",
   "execution_count": 89,
   "id": "06c16e08-9cfa-431a-a8f1-a247e9769adc",
   "metadata": {
    "scrolled": true
   },
   "outputs": [
    {
     "name": "stdout",
     "output_type": "stream",
     "text": [
      "1 [1.92496117e-01 1.01832320e-01 2.15283665e-05]\n",
      "2 [1.92496117e-01 1.01832320e-01 2.15283665e-05]\n",
      "3 "
     ]
    },
    {
     "name": "stderr",
     "output_type": "stream",
     "text": [
      "C:\\Users\\hp\\AppData\\Local\\Temp\\ipykernel_5720\\103652612.py:136: RuntimeWarning: overflow encountered in exp\n",
      "  phi_acceptance = np.exp(phi_top-phi_bottom)\n"
     ]
    },
    {
     "name": "stdout",
     "output_type": "stream",
     "text": [
      "[5.95601973 3.27632213 1.66952811]\n",
      "4 [0.9417805  7.46353465 9.93867336]\n"
     ]
    },
    {
     "name": "stderr",
     "output_type": "stream",
     "text": [
      "C:\\Users\\hp\\AppData\\Local\\Temp\\ipykernel_5720\\103652612.py:81: RuntimeWarning: covariance is not positive-semidefinite.\n",
      "  alphaj_proposal = np.random.multivariate_normal(alphaj_mean, alphaj_cov)\n",
      "C:\\Users\\hp\\AppData\\Local\\Temp\\ipykernel_5720\\103652612.py:209: RuntimeWarning: overflow encountered in exp\n",
      "  T_acceptance = np.exp(T_top - T_bottom)\n"
     ]
    },
    {
     "name": "stdout",
     "output_type": "stream",
     "text": [
      "5 [ 2.48391227  6.71638369 10.33272149]\n",
      "6 [14.11731285  8.89457476  4.03826195]\n",
      "7 [14.57902599  9.05845626  4.0413459 ]\n",
      "8 [16.47926357 12.04781304 10.47047883]\n"
     ]
    },
    {
     "name": "stderr",
     "output_type": "stream",
     "text": [
      "C:\\Users\\hp\\AppData\\Local\\Temp\\ipykernel_5720\\103652612.py:162: RuntimeWarning: overflow encountered in exp\n",
      "  theta_acceptance = np.exp(theta_top-theta_bottom)\n"
     ]
    },
    {
     "name": "stdout",
     "output_type": "stream",
     "text": [
      "9 [11.47911836 16.90472451 23.74266417]\n",
      "10 [11.54596908 20.03437802 24.53219753]\n",
      "11 [26.37019831 13.28651886 18.60570337]\n",
      "12 [12.87055144 20.92724126 25.8928281 ]\n",
      "13 [15.30296541 24.7265565  29.73404332]\n",
      "14 [16.50877403 25.17092026 30.91578405]\n",
      "15 [36.93117861 27.13992106 21.85011838]\n",
      "16 [37.61178501 27.17565639 22.3063974 ]\n",
      "17 [37.61178501 27.17565639 22.3063974 ]\n",
      "18 [23.72070628 31.11379631 43.66310555]\n",
      "19 [24.70841841 31.89249018 48.62273577]\n",
      "20 [28.15973288 48.04255916 36.93268646]\n",
      "21 [28.64458364 48.13964768 36.92618808]\n",
      "22 [28.68826593 50.21473691 37.13351334]\n",
      "23 [28.68872288 50.40632574 43.28915098]\n",
      "24 [31.48952229 55.1283028  43.61794529]\n",
      "25 [33.38222931 55.52865952 50.17065016]\n",
      "26 [43.49756179 56.22284085 50.43001828]\n",
      "27 [43.87896856 61.77030977 52.32570728]\n",
      "28 [63.40994709 44.63792181 51.00959027]\n",
      "29 [43.09332059 67.63334248 58.91527737]\n",
      "30 [43.79018882 61.64389528 73.71435306]\n",
      "31 [45.38723653 74.71036089 63.6271226 ]\n",
      "32 [45.31316785 82.85391114 64.35506156]\n",
      "33 [45.21087042 83.11710458 64.19416555]\n",
      "34 [45.52193058 84.03177325 68.0135154 ]\n",
      "35 [46.96935088 85.6772063  71.37309827]\n",
      "36 [50.84991312 87.8962275  71.10439275]\n",
      "37 [52.02637521 91.28570112 75.50497922]\n",
      "38 [52.0362834  91.35936465 75.4214075 ]\n",
      "39 [51.19668724 92.86929073 76.75474244]\n"
     ]
    },
    {
     "name": "stderr",
     "output_type": "stream",
     "text": [
      "C:\\Users\\hp\\AppData\\Local\\Temp\\ipykernel_5720\\103652612.py:125: RuntimeWarning: overflow encountered in multiply\n",
      "  np.exp(phi_proposal*data[\"LRT\"]) * np.power(data[\"Y\"]-mu_current, 2)\n",
      "C:\\Users\\hp\\AppData\\Local\\Temp\\ipykernel_5720\\103652612.py:131: RuntimeWarning: overflow encountered in multiply\n",
      "  phi_bottom -= np.exp(theta_current) * np.sum(\n",
      "C:\\Users\\hp\\AppData\\Local\\Temp\\ipykernel_5720\\103652612.py:136: RuntimeWarning: invalid value encountered in subtract\n",
      "  phi_acceptance = np.exp(phi_top-phi_bottom)\n",
      "C:\\Users\\hp\\AppData\\Local\\Temp\\ipykernel_5720\\103652612.py:152: RuntimeWarning: overflow encountered in multiply\n",
      "  theta_top -= (np.exp(theta_proposal)/2) * np.sum(\n",
      "C:\\Users\\hp\\AppData\\Local\\Temp\\ipykernel_5720\\103652612.py:158: RuntimeWarning: overflow encountered in multiply\n",
      "  theta_bottom -= (np.exp(theta_current)/2) * np.sum(\n",
      "C:\\Users\\hp\\AppData\\Local\\Temp\\ipykernel_5720\\103652612.py:162: RuntimeWarning: invalid value encountered in subtract\n",
      "  theta_acceptance = np.exp(theta_top-theta_bottom)\n"
     ]
    },
    {
     "name": "stdout",
     "output_type": "stream",
     "text": [
      "40 [57.15487314 95.72080763 76.49298222]\n",
      "41 [54.36760031 99.55849816 77.68195104]\n",
      "42 [102.73208707  53.14332469  75.73263775]\n",
      "43 "
     ]
    },
    {
     "name": "stderr",
     "output_type": "stream",
     "text": [
      "C:\\Users\\hp\\AppData\\Local\\Temp\\ipykernel_5720\\103652612.py:132: RuntimeWarning: overflow encountered in multiply\n",
      "  np.exp(phi_current*data[\"LRT\"]) * np.power(data[\"Y\"]-mu_current, 2)\n",
      "C:\\Users\\hp\\AppData\\Local\\Temp\\ipykernel_5720\\103652612.py:153: RuntimeWarning: overflow encountered in multiply\n",
      "  np.exp(phi_current*data[\"LRT\"]) * np.power(data[\"Y\"]-mu_current, 2)\n",
      "C:\\Users\\hp\\AppData\\Local\\Temp\\ipykernel_5720\\103652612.py:159: RuntimeWarning: overflow encountered in multiply\n",
      "  np.exp(phi_current*data[\"LRT\"]) * np.power(data[\"Y\"]-mu_current, 2)\n"
     ]
    },
    {
     "name": "stdout",
     "output_type": "stream",
     "text": [
      "[105.46877529  53.99108154  75.47973164]\n",
      "44 [107.54464747  53.68940637  75.93001308]\n",
      "45 [108.30000624  52.91330136  75.95075931]\n",
      "46 "
     ]
    },
    {
     "name": "stderr",
     "output_type": "stream",
     "text": [
      "C:\\Users\\hp\\AppData\\Local\\Temp\\ipykernel_5720\\103652612.py:124: RuntimeWarning: overflow encountered in multiply\n",
      "  phi_top -= np.exp(theta_current) * np.sum(\n"
     ]
    },
    {
     "name": "stdout",
     "output_type": "stream",
     "text": [
      "[112.10510812  51.14246256  73.91649624]\n",
      "47 [118.15029047  48.46232767  76.19892888]\n",
      "48 [124.07850744  50.24667078  79.52243985]\n",
      "49 [127.33668415  48.0608865   78.45004742]\n",
      "50 [134.31966629  47.74158004  85.7398325 ]\n",
      "51 [139.51835174  46.58761392  91.56622865]\n",
      "52 [146.02678246  52.34528045  96.39198423]\n",
      "53 [147.88424711  51.30309954  97.89190743]\n",
      "54 [ 50.63853841 152.16642858 101.42861542]\n",
      "55 [ 53.48002035 156.55482036 106.6266295 ]\n",
      "56 [ 53.38231179 159.92469808 109.57068352]\n",
      "57 [ 51.99721994 164.92065923 109.72157799]\n",
      "58 [ 50.88471353 167.76096373 110.09405193]\n",
      "59 [ 50.85217949 173.37857348 114.90057243]\n",
      "60 [ 48.18597195 177.25485811 116.46350729]\n",
      "61 [ 51.77124621 178.89618588 116.97759816]\n",
      "62 [181.56063763  53.63478354 117.151543  ]\n",
      "63 [ 54.53902453 188.86945655 122.62971893]\n",
      "64 [ 54.53073066 190.97528124 122.97025606]\n",
      "65 [191.80369016  56.54982694 123.08095215]\n",
      "66 [195.29493036  60.17528037 123.70774696]\n",
      "67 [197.86912405  56.84736372 124.46146993]\n",
      "68 [203.35046643  62.00482096 125.13425351]\n",
      "69 [204.26221967  62.73439163 126.47021175]\n"
     ]
    },
    {
     "name": "stderr",
     "output_type": "stream",
     "text": [
      "C:\\Users\\hp\\AppData\\Local\\Temp\\ipykernel_5720\\103652612.py:105: RuntimeWarning: overflow encountered in multiply\n",
      "  tmp_k = tmp_k * v[k, :]\n"
     ]
    },
    {
     "name": "stdout",
     "output_type": "stream",
     "text": [
      "70 [204.26221967  62.73439163 126.47021175]\n",
      "71 [204.26221967  62.73439163 126.47021175]\n",
      "72 [204.26221967  62.73439163 126.47021175]\n",
      "73 [204.26221967  62.73439163 126.47021175]\n",
      "74 [204.26221967  62.73439163 126.47021175]\n",
      "75 [204.26221967  62.73439163 126.47021175]\n",
      "76 [204.26221967  62.73439163 126.47021175]\n",
      "77 [204.26221967  62.73439163 126.47021175]\n",
      "78 [204.26221967  62.73439163 126.47021175]\n",
      "79 [204.26221967  62.73439163 126.47021175]\n",
      "80 [204.26221967  62.73439163 126.47021175]\n",
      "81 [204.26221967  62.73439163 126.47021175]\n",
      "82 [204.26221967  62.73439163 126.47021175]\n",
      "83 [204.26221967  62.73439163 126.47021175]\n",
      "84 [204.26221967  62.73439163 126.47021175]\n",
      "85 [204.26221967  62.73439163 126.47021175]\n",
      "86 [204.26221967  62.73439163 126.47021175]\n",
      "87 [204.26221967  62.73439163 126.47021175]\n",
      "88 [204.26221967  62.73439163 126.47021175]\n",
      "89 [204.26221967  62.73439163 126.47021175]\n",
      "90 [204.26221967  62.73439163 126.47021175]\n",
      "91 [204.26221967  62.73439163 126.47021175]\n",
      "92 [204.26221967  62.73439163 126.47021175]\n",
      "93 [204.26221967  62.73439163 126.47021175]\n",
      "94 [204.26221967  62.73439163 126.47021175]\n",
      "95 [204.26221967  62.73439163 126.47021175]\n",
      "96 [204.26221967  62.73439163 126.47021175]\n",
      "97 [204.26221967  62.73439163 126.47021175]\n",
      "98 [204.26221967  62.73439163 126.47021175]\n",
      "99 [204.26221967  62.73439163 126.47021175]\n",
      "100 [204.26221967  62.73439163 126.47021175]\n"
     ]
    }
   ],
   "source": [
    " chain = sampler(100, data, init, params, hyperparams)"
   ]
  },
  {
   "cell_type": "code",
   "execution_count": 90,
   "id": "7b386054-1f6c-4f06-8b94-106a2ca23009",
   "metadata": {
    "scrolled": true
   },
   "outputs": [
    {
     "data": {
      "text/plain": [
       "<matplotlib.legend.Legend at 0x23674353ca0>"
      ]
     },
     "execution_count": 90,
     "metadata": {},
     "output_type": "execute_result"
    },
    {
     "data": {
      "image/png": "[encoded data removed]",
      "text/plain": [
       "<Figure size 432x288 with 1 Axes>"
      ]
     },
     "metadata": {
      "needs_background": "light"
     },
     "output_type": "display_data"
    }
   ],
   "source": [
    "fig, ax = plt.subplots()\n",
    "for i in (0, 1, 2, 4, 5, 8):\n",
    "    ax.plot(chain[\"T\"][:, i], label=i)\n",
    "plt.legend()"
   ]
  },
  {
   "cell_type": "code",
   "execution_count": 91,
   "id": "83a9fc63",
   "metadata": {},
   "outputs": [
    {
     "data": {
      "text/plain": [
       "[<matplotlib.lines.Line2D at 0x236744926a0>]"
      ]
     },
     "execution_count": 91,
     "metadata": {},
     "output_type": "execute_result"
    },
    {
     "data": {
      "image/png": "[encoded data removed]",
      "text/plain": [
       "<Figure size 432x288 with 1 Axes>"
      ]
     },
     "metadata": {
      "needs_background": "light"
     },
     "output_type": "display_data"
    }
   ],
   "source": [
    "plt.plot(chain[\"theta\"])"
   ]
  },
  {
   "cell_type": "code",
   "execution_count": 11,
   "id": "a6621b5d",
   "metadata": {},
   "outputs": [
    {
     "ename": "SyntaxError",
     "evalue": "invalid syntax (1483605644.py, line 4)",
     "output_type": "error",
     "traceback": [
      "\u001b[1;36m  Input \u001b[1;32mIn [11]\u001b[1;36m\u001b[0m\n\u001b[1;33m    Tab = np.random.(T_current[a, b], scale=T_sd_proposal[k])\u001b[0m\n\u001b[1;37m                    ^\u001b[0m\n\u001b[1;31mSyntaxError\u001b[0m\u001b[1;31m:\u001b[0m invalid syntax\n"
     ]
    }
   ],
   "source": []
  }
 ],
 "metadata": {
  "kernelspec": {
   "display_name": "Python 3 (ipykernel)",
   "language": "python",
   "name": "python3"
  },
  "language_info": {
   "codemirror_mode": {
    "name": "ipython",
    "version": 3
   },
   "file_extension": ".py",
   "mimetype": "text/x-python",
   "name": "python",
   "nbconvert_exporter": "python",
   "pygments_lexer": "ipython3",
   "version": "3.9.12"
  }
 },
 "nbformat": 4,
 "nbformat_minor": 5
}
