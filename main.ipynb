{
 "cells": [
  {
   "cell_type": "markdown",
   "id": "25ac40fa-571f-415b-81a1-0095c65acee7",
   "metadata": {},
   "source": [
    "# Ranking school examination results using multivariate hierarchical models"
   ]
  },
  {
   "cell_type": "code",
   "execution_count": 10,
   "id": "85b26709-4aa7-40cd-aff7-e713f818eb80",
   "metadata": {},
   "outputs": [],
   "source": [
    "import numpy as np\n",
    "import pandas as pd\n",
    "import matplotlib.pyplot as plt"
   ]
  },
  {
   "cell_type": "code",
   "execution_count": 11,
   "id": "0e45d020-19d8-46d9-97db-ac155e4f1806",
   "metadata": {},
   "outputs": [],
   "source": [
    "import json \n",
    "with open(\"data/data.json\") as file:\n",
    "    data = json.load(file)\n",
    "    \n",
    "with open(\"data/init.json\") as file:\n",
    "    init = json.load(file)\n",
    "    \n",
    "with open(\"data/params.json\") as file:\n",
    "    params = json.load(file)"
   ]
  },
  {
   "cell_type": "code",
   "execution_count": 22,
   "id": "da58b957-eed1-41ef-8acb-66d4b424838b",
   "metadata": {},
   "outputs": [],
   "source": [
    "df = pd.DataFrame(data)"
   ]
  },
  {
   "cell_type": "code",
   "execution_count": null,
   "id": "878840fc-ae76-4620-90ce-f53b46c1a5e7",
   "metadata": {},
   "outputs": [],
   "source": []
  }
 ],
 "metadata": {
  "kernelspec": {
   "display_name": "Python 3 (ipykernel)",
   "language": "python",
   "name": "python3"
  },
  "language_info": {
   "codemirror_mode": {
    "name": "ipython",
    "version": 3
   },
   "file_extension": ".py",
   "mimetype": "text/x-python",
   "name": "python",
   "nbconvert_exporter": "python",
   "pygments_lexer": "ipython3",
   "version": "3.10.9"
  }
 },
 "nbformat": 4,
 "nbformat_minor": 5
}
