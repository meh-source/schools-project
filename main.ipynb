{
 "cells": [
  {
   "cell_type": "markdown",
   "id": "25ac40fa-571f-415b-81a1-0095c65acee7",
   "metadata": {},
   "source": [
    "# Ranking school examination results using multivariate hierarchical models"
   ]
  },
  {
   "cell_type": "code",
   "execution_count": 1,
   "id": "85b26709-4aa7-40cd-aff7-e713f818eb80",
   "metadata": {},
   "outputs": [],
   "source": [
    "import numpy as np\n",
    "import scipy.stats as sp\n",
    "import matplotlib.pyplot as plt"
   ]
  },
  {
   "cell_type": "code",
   "execution_count": 2,
   "id": "0e45d020-19d8-46d9-97db-ac155e4f1806",
   "metadata": {},
   "outputs": [],
   "source": [
    "import json \n",
    "\n",
    "with open(\"data/data.json\") as file:\n",
    "    data = json.load(file)\n",
    "    \n",
    "with open(\"data/init.json\") as file:\n",
    "    init = json.load(file)\n",
    "    \n",
    "with open(\"data/params.json\") as file:\n",
    "    params = json.load(file)"
   ]
  },
  {
   "cell_type": "code",
   "execution_count": 3,
   "id": "6275a2dc-126c-430d-8c89-b5bf81b09bfe",
   "metadata": {},
   "outputs": [],
   "source": [
    "for idx, item in data.items():\n",
    "    data[idx] = np.array(item).reshape(-1)\n",
    "\n",
    "for idx, item in init.items():\n",
    "    init[idx] = np.array(item).reshape(-1)\n",
    "    \n",
    "for idx, item in params.items():\n",
    "    params[idx] = np.array(item).reshape(-1)"
   ]
  },
  {
   "cell_type": "code",
   "execution_count": 4,
   "id": "275463b5-acc5-48e1-93da-bb2756d571ab",
   "metadata": {},
   "outputs": [
    {
     "data": {
      "text/plain": [
       "(dict_keys(['Gender', 'LRT', 'M', 'N', 'R', 'school', 'School_denom', 'School_gender', 'Y', 'VR']),\n",
       " dict_keys(['theta', 'phi', 'gamma', 'beta', 'Omega', 'alpha']),\n",
       " dict_keys(['R_shape', 'School_denom_shape', 'School_gender_shape', 'Venom_shape', 'Omega_shape', 'alpha_shape']))"
      ]
     },
     "execution_count": 4,
     "metadata": {},
     "output_type": "execute_result"
    }
   ],
   "source": [
    "data.keys(), init.keys(), params.keys()"
   ]
  },
  {
   "cell_type": "code",
   "execution_count": 20,
   "id": "6289c725-1ccc-4263-86ad-b98913dc69a3",
   "metadata": {},
   "outputs": [],
   "source": [
    "hyperparams = dict()\n",
    "hyperparams[\"tau0\"] = 1e-3\n",
    "hyperparams[\"sd_proposal\"] = 1e-3"
   ]
  },
  {
   "cell_type": "code",
   "execution_count": 21,
   "id": "878840fc-ae76-4620-90ce-f53b46c1a5e7",
   "metadata": {},
   "outputs": [],
   "source": [
    "def sampler(n, data, init, params, hyperparams):\n",
    "    \n",
    "    # initialisation de la chaine \n",
    "    chain = dict()\n",
    "    for key, param in init.items():\n",
    "        chain[key] = np.zeros((n+1, param.shape[0]))\n",
    "        chain[key][0, :] = param\n",
    "    \n",
    "    # définition des constantes\n",
    "    Y = data[\"Y\"]\n",
    "    \n",
    "    N   = Y.shape[0]\n",
    "    n_beta = init[\"beta\"].shape[0]\n",
    "    n_schools = np.max(data[\"school\"])\n",
    "    \n",
    "    LRT_sum = np.sum(data[\"LRT\"])\n",
    "    tau0 = hyperparams[\"tau0\"]\n",
    "    sd_proposal = hyperparams[\"sd_proposal\"]\n",
    "    \n",
    "    T0 = np.linalg.inv(init[\"Omega\"].reshape(3, 3))\n",
    "    R_inv = np.linalg.inv(data[\"R\"].reshape(3, 3))\n",
    "    \n",
    "    # définition de v\n",
    "    LRT = data[\"LRT\"].reshape(-1, 1)\n",
    "    VR = data[\"VR\"].reshape(N, -1, order=\"F\")\n",
    "    Girl = data[\"Gender\"].reshape(-1, 1)\n",
    "    School_gender = data[\"School_gender\"].reshape(N, -1, order=\"F\")\n",
    "    School_denom = data[\"School_denom\"].reshape(N, -1, order=\"F\")\n",
    "\n",
    "    v = np.concatenate((LRT**2, VR[:, [1]], Girl , School_gender, School_denom), axis=1)\n",
    "    \n",
    "    # définition de u\n",
    "    u = np.concatenate((np.ones((N, 1)), LRT, VR[:, [1]]), axis=1)\n",
    "    \n",
    "    # initialisation de mu et tau\n",
    "    mu_current  = np.zeros(N) \n",
    "    mu1_current  = np.zeros(N) \n",
    "    mu2_current  = np.zeros(N) \n",
    "    \n",
    "    # mise à jour des paramètres\n",
    "    for i in range(1, n+1):\n",
    "        print(i, end=\" \")\n",
    "        # mise à jour de alpha: normale\n",
    "        ## calcul de tau\n",
    "        theta_current = chain[\"theta\"][i-1, :]\n",
    "        phi_current = chain[\"phi\"][i-1, :]\n",
    "        tau_current = np.exp(theta_current + phi_current * LRT).flatten()\n",
    "        \n",
    "        ## variables intervenant dans la loi de alpha\n",
    "        beta_current = chain[\"beta\"][i-1, :]\n",
    "        mu2_current = np.dot(v, beta_current) \n",
    "        \n",
    "        gamma_current = chain[\"gamma\"][i-1, :]\n",
    "        Omega_current = chain[\"Omega\"][i-1, :].reshape(3, 3)\n",
    "        T_current = np.linalg.inv(Omega_current)\n",
    "        for j in range(1, n_schools+1):\n",
    "            school_j = (data[\"school\"] == j)\n",
    "            tau_j = tau_current[school_j]\n",
    "            u_j = u[school_j, :]\n",
    "            v_j = v[school_j, :]\n",
    "            Y_j = Y[school_j]\n",
    "            \n",
    "            n_j = len(Y_j)\n",
    "            alphaj_cov_inv = T_current\n",
    "            for k in range(n_j):\n",
    "                u_kj =  u[[k], :]\n",
    "                alphaj_cov_inv = alphaj_cov_inv + tau_j[k] * np.dot(u_kj.T, u_kj)\n",
    "            alphaj_cov = np.linalg.inv(alphaj_cov_inv)\n",
    "            \n",
    "            alphaj_mean = np.dot(T_current, gamma_current)\n",
    "            for k in range(n_j):\n",
    "                alphaj_mean = alphaj_mean + tau_j[k] * (Y_j[k] - np.dot(beta_current, v_j[k, :])) * u[k, :]\n",
    "            alphaj_mean = np.dot(alphaj_cov, alphaj_mean)\n",
    "            \n",
    "            alphaj_proposal = np.random.multivariate_normal(alphaj_mean, alphaj_cov)\n",
    "            chain[\"alpha\"][i,(3*(j-1)):(3*j)] = alphaj_proposal\n",
    "        \n",
    "        alpha_current = chain[\"alpha\"][i, :]\n",
    "        \n",
    "        # mise à jour de mu_1 (car elle dépend de alpha)\n",
    "        for j in range(1, n_schools + 1):\n",
    "            school_j = (data[\"school\"] == j)\n",
    "            alpha_j = alpha_current[(3*(j-1)):(3*j)]\n",
    "            mu1_current[school_j] = np.dot(u[school_j, :], alpha_j) \n",
    "        mu_current = mu1_current + mu2_current\n",
    "        \n",
    "        # mise à jour de beta: normale multivariée        \n",
    "        beta_cov_inv = tau0 * np.eye(n_beta) \n",
    "        for k in range(N):\n",
    "            beta_cov_inv = beta_cov_inv + tau_current[k] * np.dot(v[[k], :].T, v[[k], :])\n",
    "        beta_cov = np.linalg.inv(beta_cov_inv)\n",
    "        \n",
    "        tmp = np.zeros(v.shape)\n",
    "        for k in range(N):\n",
    "            tmp_k = tau_current[k] * (Y[k] - np.dot(alpha_j, u[k, :]))\n",
    "            tmp_k = tmp_k * v[k, :]\n",
    "            tmp[k, :] = tmp_k\n",
    "        beta_mean = np.sum(tmp, axis=0)\n",
    "        beta_mean = np.dot(beta_cov, beta_mean)\n",
    "        \n",
    "        beta_proposal = np.random.multivariate_normal(beta_mean, beta_cov)\n",
    "        \n",
    "        chain[\"beta\"][i, :] = beta_proposal\n",
    "        beta_current = beta_proposal\n",
    "        mu2_current = np.dot(v, beta_current)\n",
    "        mu_current = mu1_current + mu2_current\n",
    "        \n",
    "        # mise à jour de phi: mcmc \n",
    "        # phi peut prendre toutes les valeurs réelles, \n",
    "        # donc on utilise le \"random walk M.-H. scheme\"\n",
    "        phi_proposal = phi_current + np.random.normal(scale=sd_proposal)\n",
    "        \n",
    "        phi_top = - tau0 * np.power(phi_proposal, 2)\n",
    "        phi_top += LRT_sum * phi_proposal\n",
    "        phi_top -= np.exp(theta_current) * np.sum(\n",
    "            np.exp(phi_proposal*data[\"LRT\"]) * np.power(data[\"Y\"]-mu_current, 2)\n",
    "        )\n",
    "        phi_top *= .5\n",
    "        \n",
    "        phi_bottom = -tau0 * np.power(phi_current, 2)\n",
    "        phi_bottom += LRT_sum * phi_current\n",
    "        phi_bottom -= np.exp(theta_current) * np.sum(\n",
    "            np.exp(phi_current*data[\"LRT\"]) * np.power(data[\"Y\"]-mu_current, 2)\n",
    "        )\n",
    "        phi_bottom *= .5\n",
    "        \n",
    "        phi_acceptance = np.exp(phi_top-phi_bottom)\n",
    "        if phi_acceptance < np.random.rand():\n",
    "            chain[\"phi\"][i,:] = phi_proposal\n",
    "            phi_current = phi_proposal\n",
    "            tau_current = np.exp(theta_current + phi_current * LRT).flatten()\n",
    "        else:\n",
    "            chain[\"phi\"][i,:] = phi_current\n",
    "\n",
    "        # mise à jour de theta: mcmc \n",
    "        # theta peut prendre toutes les valeurs réelles, \n",
    "        # donc on utilise le \"random walk M.-H. scheme\"        \n",
    "        theta_proposal = theta_current + np.random.normal(scale=sd_proposal)\n",
    "        \n",
    "        theta_top = (-tau0/2) * np.power(theta_proposal, 2)\n",
    "        theta_top += (N/2) * theta_proposal\n",
    "        theta_top -= (np.exp(theta_proposal)/2) * np.sum(\n",
    "            np.exp(phi_current*data[\"LRT\"]) * np.power(data[\"Y\"]-mu_current, 2)\n",
    "        )\n",
    "        \n",
    "        theta_bottom = (-tau0/2) * np.power(theta_current, 2)\n",
    "        theta_bottom += (LRT_sum/2) * theta_current\n",
    "        theta_bottom -= (np.exp(theta_current)/2) * np.sum(\n",
    "            np.exp(phi_current*data[\"LRT\"]) * np.power(data[\"Y\"]-mu_current, 2)\n",
    "        ) \n",
    "        \n",
    "        theta_acceptance = np.exp(theta_top-theta_bottom)\n",
    "        if theta_acceptance < np.random.rand():\n",
    "            chain[\"theta\"][i,:] = theta_proposal\n",
    "            theta_current = theta_proposal\n",
    "            tau_current = np.exp(theta_current + phi_current * LRT).flatten()\n",
    "        else:\n",
    "            chain[\"theta\"][i,:] = theta_current\n",
    "        \n",
    "        # mise à jour de gamma: normale\n",
    "        alpha_current_sum = np.zeros(3)\n",
    "        for j in range(1, n_schools+1):\n",
    "            alpha_current_sum = alpha_current_sum + alpha_current[(3*(j-1)):(3*j)]\n",
    "        \n",
    "        gamma_cov = np.linalg.inv(T0 + n_schools*T_current)\n",
    "        gamma_mean = np.dot(gamma_cov, np.dot(T_current, alpha_current_sum))\n",
    "        \n",
    "        gamma_proposal = np.random.multivariate_normal(gamma_mean, gamma_cov)\n",
    "        \n",
    "        chain[\"gamma\"][i, :] = gamma_proposal\n",
    "        gamma_current = gamma_proposal\n",
    "        \n",
    "        # mise à jour de T=inverse de Omega: mcmc       \n",
    "        for (m, n) in ((0,0), (0,1), (0,2), (1,1), (1,2), (2,2)):\n",
    "            # boucle pour garantir que T reste définie positive\n",
    "            while True:\n",
    "                Tmn =  np.random.normal(T_current[m, n], scale=sd_proposal)\n",
    "\n",
    "                T_proposal = np.copy(T_current)\n",
    "                T_proposal[m, n] = Tmn\n",
    "                T_proposal[n, m] = Tmn\n",
    "                \n",
    "                if np.all(np.linalg.eigvals(T_proposal) > 0):\n",
    "                    Omega_proposal = np.linalg.inv(T_proposal)\n",
    "                    break\n",
    "            \n",
    "            T_top = (n_schools-1) * np.log(np.linalg.det(T_proposal))\n",
    "            T_top -= np.sum(np.diag(np.dot(R_inv, T_proposal))) \n",
    "            \n",
    "            T_bottom = (n_schools-1) * np.log(np.linalg.det(T_current))\n",
    "            T_bottom -= np.sum(np.diag(np.dot(R_inv, T_current))) \n",
    "            for j in range(1, n_schools+1):\n",
    "                alpha_j = alpha_current[(3*(j-1)):(3*j)]\n",
    "                diff_j = (gamma_current - alpha_j).reshape(-1, 1)\n",
    "                T_top -= np.dot(diff_j.T, np.dot(T_proposal, diff_j))\n",
    "                T_bottom -= np.dot(diff_j.T, np.dot(T_current, diff_j))\n",
    "            T_top *= .5\n",
    "            T_bottom *= .5\n",
    "            \n",
    "            T_acceptance = np.exp(T_top - T_bottom)\n",
    "            \n",
    "            if T_acceptance < np.random.rand():\n",
    "                chain[\"Omega\"][i, :] = Omega_proposal.flatten()\n",
    "                T_current = T_proposal\n",
    "                Omega_current = Omega_proposal\n",
    "            else:\n",
    "                chain[\"Omega\"][i, :] = Omega_current.flatten()\n",
    "        \n",
    "    return chain"
   ]
  },
  {
   "cell_type": "code",
   "execution_count": 22,
   "id": "06c16e08-9cfa-431a-a8f1-a247e9769adc",
   "metadata": {},
   "outputs": [
    {
     "name": "stdout",
     "output_type": "stream",
     "text": [
      "1 2 3 4 5 6 7 8 9 "
     ]
    },
    {
     "name": "stderr",
     "output_type": "stream",
     "text": [
      "/tmp/ipykernel_4863/697893419.py:127: RuntimeWarning: overflow encountered in exp\n",
      "  phi_acceptance = np.exp(phi_top-phi_bottom)\n"
     ]
    },
    {
     "name": "stdout",
     "output_type": "stream",
     "text": [
      "10 11 12 13 14 15 16 17 18 19 20 21 22 23 24 25 26 27 28 29 30 31 32 33 34 35 36 37 38 "
     ]
    },
    {
     "name": "stderr",
     "output_type": "stream",
     "text": [
      "/tmp/ipykernel_4863/697893419.py:152: RuntimeWarning: overflow encountered in exp\n",
      "  theta_acceptance = np.exp(theta_top-theta_bottom)\n"
     ]
    },
    {
     "name": "stdout",
     "output_type": "stream",
     "text": [
      "39 40 41 42 43 44 45 46 47 48 49 50 51 52 "
     ]
    },
    {
     "name": "stderr",
     "output_type": "stream",
     "text": [
      "/tmp/ipykernel_4863/697893419.py:200: RuntimeWarning: overflow encountered in exp\n",
      "  T_acceptance = np.exp(T_top - T_bottom)\n"
     ]
    },
    {
     "name": "stdout",
     "output_type": "stream",
     "text": [
      "53 54 55 56 57 58 59 60 61 62 63 64 65 66 67 68 69 70 71 72 73 74 75 76 77 78 79 80 81 82 83 84 85 86 87 88 89 90 91 92 93 94 95 96 97 98 99 100 101 102 103 104 105 106 107 108 109 110 111 112 113 114 115 116 117 118 119 120 121 122 123 124 125 126 127 128 129 130 131 132 133 134 135 136 137 138 139 140 141 142 143 144 145 146 147 148 149 150 151 152 153 154 155 156 157 158 159 160 161 162 163 164 165 166 167 168 169 170 171 172 173 174 175 176 177 178 179 180 181 182 183 184 185 186 187 188 189 190 191 192 193 194 195 196 197 198 199 200 201 202 203 204 205 206 207 208 209 210 211 212 213 214 215 216 217 218 219 220 221 222 223 224 225 226 227 228 229 230 231 232 233 234 235 236 237 238 239 240 241 242 243 244 245 246 247 248 249 250 251 252 253 254 255 256 257 258 259 260 261 262 263 264 265 266 267 268 269 270 271 272 273 274 275 276 277 278 279 280 281 282 283 284 285 286 287 288 289 290 291 292 293 294 295 296 297 298 299 300 301 302 303 304 305 306 307 308 309 310 311 312 313 314 315 316 317 318 319 320 321 322 323 324 325 326 327 328 329 330 331 332 333 334 335 336 337 338 339 340 341 342 343 344 345 346 347 348 349 350 351 352 353 354 355 356 357 358 359 360 361 362 363 364 365 366 367 368 369 370 371 372 373 374 375 376 377 378 379 380 381 382 383 384 385 386 387 388 389 390 391 392 393 394 395 396 397 398 399 400 401 402 403 404 405 406 407 408 409 410 411 412 413 414 415 416 417 418 419 420 421 422 423 424 425 426 427 428 429 430 431 432 433 434 435 436 437 438 439 440 441 442 443 444 445 446 447 448 449 450 451 452 453 454 455 456 457 458 459 460 461 462 463 464 465 466 467 468 469 470 471 472 473 474 475 476 477 478 479 480 481 482 483 484 485 486 487 488 489 490 491 492 493 494 495 496 497 498 499 500 501 502 503 504 505 506 507 508 509 510 511 512 513 514 515 516 517 518 519 520 521 522 523 524 525 526 527 528 529 530 531 532 533 534 535 536 537 538 539 540 541 542 543 544 545 546 547 548 549 550 551 552 553 554 555 556 557 558 559 560 561 562 563 564 565 566 567 568 569 570 571 572 573 574 575 576 577 578 579 580 581 582 583 584 585 586 587 588 589 590 591 592 593 594 595 596 597 598 599 600 601 602 603 604 605 606 607 608 609 "
     ]
    },
    {
     "name": "stderr",
     "output_type": "stream",
     "text": [
      "/home/meh/anaconda3/envs/minimal/lib/python3.10/site-packages/numpy/core/fromnumeric.py:86: RuntimeWarning: overflow encountered in reduce\n",
      "  return ufunc.reduce(obj, axis, dtype, out, **passkwargs)\n",
      "/tmp/ipykernel_4863/697893419.py:127: RuntimeWarning: invalid value encountered in subtract\n",
      "  phi_acceptance = np.exp(phi_top-phi_bottom)\n",
      "/tmp/ipykernel_4863/697893419.py:152: RuntimeWarning: invalid value encountered in subtract\n",
      "  theta_acceptance = np.exp(theta_top-theta_bottom)\n",
      "/tmp/ipykernel_4863/697893419.py:116: RuntimeWarning: overflow encountered in multiply\n",
      "  np.exp(phi_proposal*data[\"LRT\"]) * np.power(data[\"Y\"]-mu_current, 2)\n",
      "/tmp/ipykernel_4863/697893419.py:123: RuntimeWarning: overflow encountered in multiply\n",
      "  np.exp(phi_current*data[\"LRT\"]) * np.power(data[\"Y\"]-mu_current, 2)\n",
      "/tmp/ipykernel_4863/697893419.py:143: RuntimeWarning: overflow encountered in multiply\n",
      "  np.exp(phi_current*data[\"LRT\"]) * np.power(data[\"Y\"]-mu_current, 2)\n",
      "/tmp/ipykernel_4863/697893419.py:149: RuntimeWarning: overflow encountered in multiply\n",
      "  np.exp(phi_current*data[\"LRT\"]) * np.power(data[\"Y\"]-mu_current, 2)\n"
     ]
    },
    {
     "name": "stdout",
     "output_type": "stream",
     "text": [
      "610 611 612 613 614 615 616 617 "
     ]
    },
    {
     "name": "stderr",
     "output_type": "stream",
     "text": [
      "/tmp/ipykernel_4863/697893419.py:116: RuntimeWarning: overflow encountered in power\n",
      "  np.exp(phi_proposal*data[\"LRT\"]) * np.power(data[\"Y\"]-mu_current, 2)\n",
      "/tmp/ipykernel_4863/697893419.py:123: RuntimeWarning: overflow encountered in power\n",
      "  np.exp(phi_current*data[\"LRT\"]) * np.power(data[\"Y\"]-mu_current, 2)\n",
      "/tmp/ipykernel_4863/697893419.py:143: RuntimeWarning: overflow encountered in power\n",
      "  np.exp(phi_current*data[\"LRT\"]) * np.power(data[\"Y\"]-mu_current, 2)\n",
      "/tmp/ipykernel_4863/697893419.py:149: RuntimeWarning: overflow encountered in power\n",
      "  np.exp(phi_current*data[\"LRT\"]) * np.power(data[\"Y\"]-mu_current, 2)\n",
      "/tmp/ipykernel_4863/697893419.py:195: RuntimeWarning: overflow encountered in subtract\n",
      "  T_top -= np.dot(diff_j.T, np.dot(T_proposal, diff_j))\n",
      "/tmp/ipykernel_4863/697893419.py:196: RuntimeWarning: overflow encountered in subtract\n",
      "  T_bottom -= np.dot(diff_j.T, np.dot(T_current, diff_j))\n",
      "/tmp/ipykernel_4863/697893419.py:200: RuntimeWarning: invalid value encountered in subtract\n",
      "  T_acceptance = np.exp(T_top - T_bottom)\n"
     ]
    },
    {
     "name": "stdout",
     "output_type": "stream",
     "text": [
      "618 619 620 621 622 623 624 625 626 627 628 629 630 631 632 633 634 635 636 637 638 639 640 641 642 643 644 645 646 647 648 649 650 651 652 653 654 655 656 657 658 659 660 661 662 663 664 665 666 667 668 669 670 671 672 673 674 675 676 677 678 679 680 681 682 683 684 685 686 687 688 689 690 691 692 693 694 695 696 697 698 699 700 701 702 703 704 705 706 707 708 709 710 711 712 713 714 715 716 717 718 719 720 721 722 723 724 725 726 727 728 729 730 731 732 733 734 735 736 737 738 739 740 741 742 743 744 745 746 747 748 749 750 751 752 753 754 755 756 757 758 759 760 761 762 763 764 765 766 767 768 769 770 771 772 773 774 775 776 777 778 779 780 781 782 783 784 785 786 787 788 789 790 791 792 793 794 795 796 797 798 799 800 801 802 803 804 805 806 807 808 809 810 811 812 813 814 815 816 817 818 819 820 821 822 823 824 825 826 827 828 829 830 831 832 833 834 835 836 837 838 839 840 841 842 843 844 845 846 847 848 849 850 851 852 853 854 855 856 857 858 859 860 861 862 863 864 865 866 867 868 869 870 871 872 873 874 875 876 877 878 879 880 881 882 883 884 885 886 887 888 889 890 891 892 893 894 895 896 897 898 899 900 901 902 903 904 905 906 907 908 909 910 911 912 913 914 915 916 917 918 919 920 921 922 923 924 925 926 927 928 929 930 931 932 933 934 935 936 937 938 939 940 941 942 943 944 945 946 947 948 949 950 951 952 953 954 955 956 957 958 959 960 961 962 963 964 965 966 967 968 969 970 971 972 973 974 975 976 977 978 979 980 981 982 983 984 985 986 987 988 989 990 991 992 993 994 995 996 997 998 999 1000 "
     ]
    }
   ],
   "source": [
    " chain = sampler(1000, data, init, params, hyperparams)"
   ]
  },
  {
   "cell_type": "code",
   "execution_count": 25,
   "id": "e8d987ac-088e-4e4f-8d90-85475028ea56",
   "metadata": {},
   "outputs": [
    {
     "data": {
      "text/plain": [
       "array([[0.01      ],\n",
       "       [0.01      ],\n",
       "       [0.01007099],\n",
       "       ...,\n",
       "       [0.25407415],\n",
       "       [0.25407415],\n",
       "       [0.25407415]])"
      ]
     },
     "execution_count": 25,
     "metadata": {},
     "output_type": "execute_result"
    }
   ],
   "source": [
    "chain[\"phi\"]"
   ]
  },
  {
   "cell_type": "code",
   "execution_count": null,
   "id": "7b386054-1f6c-4f06-8b94-106a2ca23009",
   "metadata": {},
   "outputs": [],
   "source": []
  }
 ],
 "metadata": {
  "kernelspec": {
   "display_name": "Python 3 (ipykernel)",
   "language": "python",
   "name": "python3"
  },
  "language_info": {
   "codemirror_mode": {
    "name": "ipython",
    "version": 3
   },
   "file_extension": ".py",
   "mimetype": "text/x-python",
   "name": "python",
   "nbconvert_exporter": "python",
   "pygments_lexer": "ipython3",
   "version": "3.10.9"
  }
 },
 "nbformat": 4,
 "nbformat_minor": 5
}
